{
  "nbformat": 4,
  "nbformat_minor": 0,
  "metadata": {
    "colab": {
      "private_outputs": true,
      "provenance": []
    },
    "kernelspec": {
      "name": "python3",
      "display_name": "Python 3"
    },
    "language_info": {
      "name": "python"
    }
  },
  "cells": [
    {
      "cell_type": "markdown",
      "source": [
        "#  Prediction  and Classification of Customer Churn"
      ],
      "metadata": {
        "id": "buV9E0bf-37g"
      }
    },
    {
      "cell_type": "markdown",
      "source": [
        "IMPORTING THE DATA SCIENCE LIBRARIES"
      ],
      "metadata": {
        "id": "HNvHInaq_BMJ"
      }
    },
    {
      "cell_type": "code",
      "execution_count": null,
      "metadata": {
        "id": "eum2WGOnBeeL"
      },
      "outputs": [],
      "source": [
        "\n",
        "import numpy as np\n",
        "import pandas as pd\n",
        "import seaborn as sns\n",
        "import matplotlib.pyplot as plt\n",
        "\n",
        "import time"
      ]
    },
    {
      "cell_type": "markdown",
      "source": [
        "Importing the ML / Scikit learn EVERYTHING"
      ],
      "metadata": {
        "id": "egI1aKHM_G4g"
      }
    },
    {
      "cell_type": "code",
      "source": [
        "from sklearn.linear_model import LogisticRegression\n",
        "from sklearn.neighbors import KNeighborsClassifier\n",
        "from sklearn.linear_model import RidgeClassifier\n",
        "from sklearn.tree import DecisionTreeClassifier\n",
        "from sklearn.ensemble import RandomForestClassifier, GradientBoostingClassifier\n",
        "from sklearn.svm import SVC\n",
        "from sklearn.neural_network import MLPClassifier"
      ],
      "metadata": {
        "id": "rw9qEruauW9l"
      },
      "execution_count": null,
      "outputs": []
    },
    {
      "cell_type": "code",
      "source": [
        "from sklearn.model_selection import train_test_split               #for splitting the data into test and training data\n",
        "from sklearn.compose import ColumnTransformer                       #for transforming the columns\n",
        "from sklearn.impute import SimpleImputer                             #for imputing the missing values\n",
        "from sklearn.preprocessing import OneHotEncoder                      #one hot encoding\n",
        "from sklearn.preprocessing import MinMaxScaler                        #standard scaling\n",
        "\n",
        "from sklearn.datasets import load_diabetes\n",
        "\n",
        "from sklearn.datasets import make_regression\n",
        "\n",
        "from sklearn.linear_model import LinearRegression\n",
        "from sklearn.linear_model import Ridge\n",
        "from sklearn.linear_model import Lasso\n",
        "from sklearn.linear_model import ElasticNet\n",
        "from sklearn.neighbors import KNeighborsRegressor\n",
        "from sklearn.tree import DecisionTreeRegressor\n",
        "from sklearn.ensemble import RandomForestRegressor\n",
        "from sklearn.ensemble import GradientBoostingRegressor\n",
        "from sklearn.neural_network import MLPRegressor\n",
        "from sklearn.svm import SVR\n",
        "from sklearn.metrics import mean_squared_error, r2_score\n",
        "\n",
        "\n",
        "from sklearn.svm import SVR\n",
        "import plotly.express as px\n",
        "import plotly.graph_objects as go\n",
        "from sklearn.datasets import make_classification\n",
        "\n",
        "from sklearn.preprocessing import LabelEncoder\n",
        "from sklearn.model_selection import train_test_split\n",
        "from sklearn.metrics import accuracy_score                 # for accuracy score\n",
        "from sklearn.model_selection import cross_val_score        # for cross validation score\n",
        "\n",
        "from sklearn.linear_model import LinearRegression           # Import the LinearRegression class\n",
        "from sklearn.metrics import mean_squared_error, r2_score    # to find out the error functions\n",
        "from sklearn.preprocessing import PolynomialFeatures , StandardScaler   # for the polunomial features\n",
        "\n",
        "from sklearn.pipeline import Pipeline\n",
        "from sklearn.linear_model import Ridge   # ridge Regression\n",
        "from sklearn.linear_model import LogisticRegression\n",
        "\n",
        "\n",
        "from sklearn.tree import DecisionTreeClassifier                 #Decision tree\n",
        "from sklearn.ensemble import RandomForestClassifier, GradientBoostingClassifier   # bagging and Boosting\n",
        "from sklearn.svm import SVC\n",
        "from sklearn.neural_network import MLPClassifier\n",
        "from sklearn.metrics import accuracy_score, precision_score, recall_score, f1_score, roc_auc_score   # different metrices to check how our model performed"
      ],
      "metadata": {
        "id": "wRReSbVmlxcK"
      },
      "execution_count": null,
      "outputs": []
    },
    {
      "cell_type": "markdown",
      "source": [
        "Importing Deep learning Everything"
      ],
      "metadata": {
        "id": "7EOOII0y82hE"
      }
    },
    {
      "cell_type": "code",
      "source": [
        "import tensorflow as tf\n",
        "from tensorflow import keras\n",
        "from tensorflow.keras import Sequential\n",
        "from tensorflow.keras.layers import Dense\n",
        "\n",
        "from tensorflow.keras.layers import Dropout\n",
        "from tensorflow.keras.optimizers import Adam"
      ],
      "metadata": {
        "id": "O1qjFngb87Y8"
      },
      "execution_count": null,
      "outputs": []
    },
    {
      "cell_type": "markdown",
      "source": [
        "Importing mathematical models"
      ],
      "metadata": {
        "id": "5oPnYaeAM0_1"
      }
    },
    {
      "cell_type": "code",
      "source": [
        "# prompt: import the mathematical testing framewroks\n",
        "\n",
        "# Importing mathematical models\n",
        "import math\n",
        "\n",
        "from scipy import stats\n",
        "\n",
        "import scipy.stats as stats\n",
        "import statsmodels.api as sm"
      ],
      "metadata": {
        "id": "G_2PyN5pNV1q"
      },
      "execution_count": null,
      "outputs": []
    },
    {
      "cell_type": "markdown",
      "source": [
        "# Loading and Information about the Dataset"
      ],
      "metadata": {
        "id": "XTPRT3iy9EuI"
      }
    },
    {
      "cell_type": "code",
      "source": [
        "\n",
        "from google.colab import files    # we are importing the file from the device\n",
        "uploaded = files.upload()"
      ],
      "metadata": {
        "id": "GiKUuK2LUcY4"
      },
      "execution_count": null,
      "outputs": []
    },
    {
      "cell_type": "markdown",
      "source": [
        "Categorical encoding has already being performed"
      ],
      "metadata": {
        "id": "u9tMczjh9x1H"
      }
    },
    {
      "cell_type": "code",
      "source": [
        "df=pd.read_csv('Modified_Churn_Dataset.csv')   #fitting the data in the df dataframe\n",
        "df.head(5)\n",
        "\n"
      ],
      "metadata": {
        "id": "PAXRZRNaJVKO",
        "collapsed": true
      },
      "execution_count": null,
      "outputs": []
    },
    {
      "cell_type": "code",
      "source": [
        "df= df.drop(['CustomerId' ,'RowNumber', 'Surname','Balance'],axis=1)\n",
        "df.head()              # we are removing all identity column"
      ],
      "metadata": {
        "id": "S8NGGeR9xk0B"
      },
      "execution_count": null,
      "outputs": []
    },
    {
      "cell_type": "code",
      "source": [
        "df.shape\n"
      ],
      "metadata": {
        "id": "fkHEM3gG747n"
      },
      "execution_count": null,
      "outputs": []
    },
    {
      "cell_type": "code",
      "source": [
        "df.describe()"
      ],
      "metadata": {
        "id": "tI7KmcrM79Sh"
      },
      "execution_count": null,
      "outputs": []
    },
    {
      "cell_type": "code",
      "source": [
        "df.info()       # we are checking for the null values luckily we dont have any here"
      ],
      "metadata": {
        "id": "i0p4tkGa8LcT"
      },
      "execution_count": null,
      "outputs": []
    },
    {
      "cell_type": "markdown",
      "source": [
        " There is no null data present in our Dataset"
      ],
      "metadata": {
        "id": "wUxiZbKg8QuQ"
      }
    },
    {
      "cell_type": "markdown",
      "source": [
        "# Data Preprocessing"
      ],
      "metadata": {
        "id": "YP84BY9b8Zdz"
      }
    },
    {
      "cell_type": "code",
      "source": [
        "df.duplicated().sum()          # Checking the Duplicate Columns"
      ],
      "metadata": {
        "id": "iUBfdUMF8dqS"
      },
      "execution_count": null,
      "outputs": []
    },
    {
      "cell_type": "code",
      "source": [
        "df['NumOfProducts'].value_counts()          # this is kind of both categorical also numerical also thats why\n",
        "                                                    # we need to fo some work here"
      ],
      "metadata": {
        "id": "5zK3PhHsyiNf"
      },
      "execution_count": null,
      "outputs": []
    },
    {
      "cell_type": "code",
      "source": [
        "df['Age'].value_counts()"
      ],
      "metadata": {
        "id": "USE8VES2zFSL"
      },
      "execution_count": null,
      "outputs": []
    },
    {
      "cell_type": "code",
      "source": [
        "df['Tenure'].value_counts()"
      ],
      "metadata": {
        "id": "4i7qCI7OzSf5"
      },
      "execution_count": null,
      "outputs": []
    },
    {
      "cell_type": "markdown",
      "source": [
        " #  Encoding the Categorical Values"
      ],
      "metadata": {
        "id": "54GFBIsKAA4W"
      }
    },
    {
      "cell_type": "code",
      "source": [
        "label_encoders = {}\n",
        "categorical_columns = [            # these are the only 2 string type categorical values\n",
        "    'Geography' , 'Gender'\n",
        "]\n",
        "\n",
        "for col in categorical_columns:\n",
        "    le = LabelEncoder()                         # we are label encoding the categorical values\n",
        "    df[col] = le.fit_transform(df[col])\n",
        "    label_encoders[col] = le"
      ],
      "metadata": {
        "id": "RwFzWD_NAEbB"
      },
      "execution_count": null,
      "outputs": []
    },
    {
      "cell_type": "code",
      "source": [
        "df.head()"
      ],
      "metadata": {
        "collapsed": true,
        "id": "7FJKVu1OEqaZ"
      },
      "execution_count": null,
      "outputs": []
    },
    {
      "cell_type": "markdown",
      "source": [
        "# Standard Scaling the numeric values"
      ],
      "metadata": {
        "id": "p7-0H-rSAg7X"
      }
    },
    {
      "cell_type": "code",
      "source": [
        "df.head(5)"
      ],
      "metadata": {
        "id": "HA-b0z5ClJzt"
      },
      "execution_count": null,
      "outputs": []
    },
    {
      "cell_type": "code",
      "source": [
        "numerical_columns =  ['CreditScore', 'Age', 'Tenure', 'NumOfProducts','EstimatedSalary']\n",
        "\n",
        "\n",
        "def remove_outliers(df , columns ):       # Outlier detection of the Numeric columns\n",
        "  for col in columns:\n",
        "\n",
        "    Q1 = df[col].quantile(0.25)            # 25th percentile\n",
        "    Q3 = df[col].quantile(0.75)               # 75th percentile\n",
        "    IQR = Q3 - Q1\n",
        "\n",
        "    lower_bound = Q1 - 1.5 * IQR           # lower bound and upper bound a little less than 25th percentile and little more than 75th percentile\n",
        "    upper_bound = Q3 + 1.5 * IQR\n",
        "\n",
        "    df = df[(df[col] >= lower_bound) & (df[col] <= upper_bound)]\n",
        "\n",
        "  return df\n",
        "\n",
        "df = remove_outliers(df , numerical_columns)"
      ],
      "metadata": {
        "id": "XePWWals8sqi"
      },
      "execution_count": null,
      "outputs": []
    },
    {
      "cell_type": "code",
      "source": [],
      "metadata": {
        "id": "6jXnXW0AF8tG"
      },
      "execution_count": null,
      "outputs": []
    },
    {
      "cell_type": "code",
      "source": [
        "df.shape"
      ],
      "metadata": {
        "id": "KND3ot6zltuP"
      },
      "execution_count": null,
      "outputs": []
    },
    {
      "cell_type": "code",
      "source": [
        "df['NumOfProducts'].value_counts()"
      ],
      "metadata": {
        "id": "Wbv_5GR-8Uhb"
      },
      "execution_count": null,
      "outputs": []
    },
    {
      "cell_type": "code",
      "source": [
        "numerical_columns =  ['CreditScore', 'Age', 'Tenure','EstimatedSalary']"
      ],
      "metadata": {
        "id": "J9NXMB508jG5"
      },
      "execution_count": null,
      "outputs": []
    },
    {
      "cell_type": "code",
      "source": [
        "# Scale numerical features\n",
        "scaler = StandardScaler()\n",
        "df[numerical_columns] = scaler.fit_transform(df[numerical_columns])"
      ],
      "metadata": {
        "id": "F-OkP875As0B"
      },
      "execution_count": null,
      "outputs": []
    },
    {
      "cell_type": "code",
      "source": [
        "df.head(20)"
      ],
      "metadata": {
        "id": "N0rDH33Tl8Ft"
      },
      "execution_count": null,
      "outputs": []
    },
    {
      "cell_type": "markdown",
      "source": [
        "We are using Inter-quartile Range to find the ouliers in the Numerical Continuous Values of the Numerical columns that we have"
      ],
      "metadata": {
        "id": "hLGjtdxj-gIm"
      }
    },
    {
      "cell_type": "code",
      "source": [
        "df.head()"
      ],
      "metadata": {
        "id": "hr_0O7UqGdpS"
      },
      "execution_count": null,
      "outputs": []
    },
    {
      "cell_type": "markdown",
      "source": [
        "Here we gonna see that Number of products 3 is very less compared to 1 or 2 so , we differentiate between them as 1 and more than 1  "
      ],
      "metadata": {
        "id": "MG5OGycUfY0e"
      }
    },
    {
      "cell_type": "code",
      "source": [
        "df['NumOfProducts'].value_counts()"
      ],
      "metadata": {
        "id": "dEowodQR85Ff"
      },
      "execution_count": null,
      "outputs": []
    },
    {
      "cell_type": "code",
      "source": [
        "df['NumOfProducts'] = df['NumOfProducts'].apply(lambda x: 0 if x == 1 else (1 if x in [2, 3] else None))\n",
        "df.head()"
      ],
      "metadata": {
        "id": "SdX6cHrj92qA"
      },
      "execution_count": null,
      "outputs": []
    },
    {
      "cell_type": "markdown",
      "source": [
        "# Exploratory Data Analysis ( EDA )"
      ],
      "metadata": {
        "id": "4PmJ4wEfBBUV"
      }
    },
    {
      "cell_type": "markdown",
      "source": [
        "#  Distribution of NUMERIC FEATURES and Analysis"
      ],
      "metadata": {
        "id": "noe8bZQyhtlP"
      }
    },
    {
      "cell_type": "code",
      "source": [
        "numerical_columns =  ['CreditScore', 'Age', 'Tenure','EstimatedSalary','Exited']\n",
        "categorical_columns = [\n",
        "    'Geography' , 'Gender' , 'NumOfProducts' , 'HasCrCard' , 'IsActiveMember' , 'BalanceX'\n",
        "]"
      ],
      "metadata": {
        "id": "ReWt9Bx5-uUQ"
      },
      "execution_count": null,
      "outputs": []
    },
    {
      "cell_type": "code",
      "source": [
        "# Distribution plots for numerical features\n",
        "plt.figure(figsize=(18, 18))\n",
        "\n",
        "\n",
        "for i, col in enumerate(numerical_columns):\n",
        "    plt.subplot(4, 3, i + 1)\n",
        "    sns.histplot(df[col], bins=30, kde=True , palette='Set3')\n",
        "    plt.title(f'{col} Distribution')\n",
        "    plt.xlabel(col)\n",
        "    plt.ylabel('Count')\n",
        "\n",
        "\n",
        "plt.tight_layout()\n",
        "plt.show()"
      ],
      "metadata": {
        "id": "vIOVnALRFzbI"
      },
      "execution_count": null,
      "outputs": []
    },
    {
      "cell_type": "markdown",
      "source": [
        "This gives us the 4 graphs for 4 features that we had\n",
        "\n",
        "All the graphs are basically distribution graphs removing the Outliers"
      ],
      "metadata": {
        "id": "NVnj2FGsGLLz"
      }
    },
    {
      "cell_type": "code",
      "source": [
        "# Box plots for numerical features grouped by Target\n",
        "\n",
        "\n",
        "plt.figure(figsize=(20, 20))\n",
        "\n",
        "for i, col in enumerate(numerical_columns):\n",
        "    plt.subplot(4, 3, i + 1)\n",
        "    sns.boxplot(x='Exited', y=col, data=df , palette='Set2')\n",
        "    plt.title(f'{col} by Exited')\n",
        "    plt.xlabel('Exited')\n",
        "    plt.ylabel(col)\n",
        "\n",
        "plt.legend(loc='upper right')\n",
        "plt.tight_layout()\n",
        "plt.show()"
      ],
      "metadata": {
        "id": "93R5_BR9G909"
      },
      "execution_count": null,
      "outputs": []
    },
    {
      "cell_type": "markdown",
      "source": [
        " We draw graphs of Species  with all their Numerical features such as 4 features given above ."
      ],
      "metadata": {
        "id": "m5CHMObAHZq0"
      }
    },
    {
      "cell_type": "markdown",
      "source": [
        "The Question may arise why i have pyt Exited in the numerical column and we are getting those 2 ugly end graph , the reason is  ----\n",
        "\n",
        "I wanted X-axis to be the Exited Column ."
      ],
      "metadata": {
        "id": "5rfPV3HzgE5m"
      }
    },
    {
      "cell_type": "markdown",
      "source": [
        "# CAtegorical Features Analysis"
      ],
      "metadata": {
        "id": "OdsvrnIDiP4G"
      }
    },
    {
      "cell_type": "code",
      "source": [
        "df.head()"
      ],
      "metadata": {
        "id": "Q4TCyCFAng-6"
      },
      "execution_count": null,
      "outputs": []
    },
    {
      "cell_type": "code",
      "source": [
        "# Count plots for categorical features GROUPED BY SPECIES\n",
        "categorical_columns = [\n",
        "    'Geography' , 'Gender' , 'NumOfProducts' , 'HasCrCard' , 'IsActiveMember' , 'BalanceX'\n",
        "]\n",
        "\n",
        "\n",
        "plt.figure(figsize=(20, 20))\n",
        "\n",
        "\n",
        "for i, col in enumerate(categorical_columns):\n",
        "    plt.subplot(5, 5, i + 1)\n",
        "    sns.histplot(x=col, data=df , palette='Set1')\n",
        "    plt.title(f'{col} Count')\n",
        "    plt.xlabel(col)\n",
        "    plt.ylabel('Count')\n",
        "\n",
        "\n",
        "plt.tight_layout()\n",
        "plt.show()"
      ],
      "metadata": {
        "id": "hhZJk6LMH9XF"
      },
      "execution_count": null,
      "outputs": []
    },
    {
      "cell_type": "code",
      "source": [
        "import seaborn as sns\n",
        "import matplotlib.pyplot as plt\n",
        "\n",
        "\n",
        "# Group by species and sex to count occurrences\n",
        "df_grouped = df.groupby(['Exited', 'Geography']).size().reset_index(name='count')\n",
        "\n",
        "# Plotting the barplot\n",
        "sns.barplot(x='Exited', y='count', hue='Geography', data=df_grouped)\n",
        "\n",
        "# Display the plot\n",
        "plt.title('Geography Count per Target')\n",
        "plt.ylabel('Count')\n",
        "plt.xlabel('target')\n",
        "plt.xticks(rotation=45)  # Rotate species labels if needed\n",
        "plt.show()\n"
      ],
      "metadata": {
        "id": "oipvhQiulRN5"
      },
      "execution_count": null,
      "outputs": []
    },
    {
      "cell_type": "code",
      "source": [
        "import seaborn as sns\n",
        "import matplotlib.pyplot as plt\n",
        "\n",
        "\n",
        "# Group by species and sex to count occurrences\n",
        "df_grouped = df.groupby(['Exited', 'Gender']).size().reset_index(name='count')\n",
        "\n",
        "# Plotting the barplot\n",
        "sns.barplot(x='Exited', y='count', hue='Gender', data=df_grouped)\n",
        "\n",
        "# Display the plot\n",
        "plt.title('Gender Count per Exited')\n",
        "plt.ylabel('Count')\n",
        "plt.xlabel('Exited')\n",
        "plt.xticks(rotation=45)  # Rotate species labels if needed\n",
        "plt.show()"
      ],
      "metadata": {
        "id": "fTIloCBhqEA5"
      },
      "execution_count": null,
      "outputs": []
    },
    {
      "cell_type": "code",
      "source": [
        "# Group by species and sex to count occurrences\n",
        "df_grouped = df.groupby(['Exited', 'NumOfProducts']).size().reset_index(name='count')\n",
        "\n",
        "# Plotting the barplot\n",
        "sns.barplot(x='Exited', y='count', hue='NumOfProducts', data=df_grouped)\n",
        "\n",
        "# Display the plot\n",
        "plt.title('NumOfProducts Count per Exited')\n",
        "plt.ylabel('Count')\n",
        "plt.xlabel('Exited')\n",
        "plt.xticks(rotation=45)  # Rotate species labels if needed\n",
        "plt.show()"
      ],
      "metadata": {
        "id": "sij6LUw9CYtt"
      },
      "execution_count": null,
      "outputs": []
    },
    {
      "cell_type": "code",
      "source": [
        "# Group by species and sex to count occurrences\n",
        "df_grouped = df.groupby(['Exited', 'HasCrCard']).size().reset_index(name='count')\n",
        "\n",
        "# Plotting the barplot\n",
        "sns.barplot(x='Exited', y='count', hue='HasCrCard', data=df_grouped)\n",
        "\n",
        "# Display the plot\n",
        "plt.title('HasCrCard Count per Exited')\n",
        "plt.ylabel('Count')\n",
        "plt.xlabel('Exited')\n",
        "plt.xticks(rotation=45)  # Rotate species labels if needed\n",
        "plt.show()"
      ],
      "metadata": {
        "id": "60eUdaboCZmT"
      },
      "execution_count": null,
      "outputs": []
    },
    {
      "cell_type": "code",
      "source": [
        "# Group by species and sex to count occurrences\n",
        "df_grouped = df.groupby(['Exited', 'IsActiveMember']).size().reset_index(name='count')\n",
        "\n",
        "# Plotting the barplot\n",
        "sns.barplot(x='Exited', y='count', hue='IsActiveMember', data=df_grouped)\n",
        "\n",
        "# Display the plot\n",
        "plt.title('IsActiveMember Count per Exited')\n",
        "plt.ylabel('Count')\n",
        "plt.xlabel('Exited')\n",
        "plt.xticks(rotation=45)  # Rotate species labels if needed\n",
        "plt.show()"
      ],
      "metadata": {
        "id": "kUmW1ZjkCaNd"
      },
      "execution_count": null,
      "outputs": []
    },
    {
      "cell_type": "code",
      "source": [
        "# Group by species and sex to count occurrences\n",
        "df_grouped = df.groupby(['Exited', 'BalanceX']).size().reset_index(name='count')\n",
        "\n",
        "# Plotting the barplot\n",
        "sns.barplot(x='Exited', y='count', hue='BalanceX', data=df_grouped)\n",
        "\n",
        "# Display the plot\n",
        "plt.title('BalanceX Count per Exited')\n",
        "plt.ylabel('Count')\n",
        "plt.xlabel('Exited')\n",
        "plt.xticks(rotation=45)  # Rotate species labels if needed\n",
        "plt.show()"
      ],
      "metadata": {
        "id": "_3DNYxITCbcF"
      },
      "execution_count": null,
      "outputs": []
    },
    {
      "cell_type": "markdown",
      "source": [
        "# MULtivariate Analysis of the Numeric Features\n"
      ],
      "metadata": {
        "id": "BfaSA1LEiJyQ"
      }
    },
    {
      "cell_type": "code",
      "source": [
        "numerical_columns =  ['CreditScore', 'Age', 'Tenure','EstimatedSalary','Exited']"
      ],
      "metadata": {
        "id": "Kzi1Hclmf5pF"
      },
      "execution_count": null,
      "outputs": []
    },
    {
      "cell_type": "code",
      "source": [
        "# Pairplot to show relationships between features\n",
        "plt.figure(figsize=(15, 15))\n",
        "sns.pairplot(df[numerical_columns], hue='Exited')\n",
        "plt.show()"
      ],
      "metadata": {
        "id": "7Itj5PJ5LLYf"
      },
      "execution_count": null,
      "outputs": []
    },
    {
      "cell_type": "markdown",
      "source": [
        "The above wasnt that much helpful to be honest"
      ],
      "metadata": {
        "id": "Gx2x8Rclg7kD"
      }
    },
    {
      "cell_type": "code",
      "source": [
        "# Correlation Heatmap\n",
        "plt.figure(figsize=(20, 15))\n",
        "numeric_data = df[numerical_columns]\n",
        "sns.heatmap(numeric_data.corr(), annot=True, cmap='coolwarm', fmt='.2f')\n",
        "plt.title('Correlation Heatmap')\n",
        "plt.show()"
      ],
      "metadata": {
        "id": "qnaGIC8WL9xZ"
      },
      "execution_count": null,
      "outputs": []
    },
    {
      "cell_type": "markdown",
      "source": [
        "This was still kind of helpful  as Exited is HEavily corelated to Age and midlly corelated to Estimated Salary ."
      ],
      "metadata": {
        "id": "iWEG45DmhAAh"
      }
    },
    {
      "cell_type": "markdown",
      "source": [
        "# Statistical Tests"
      ],
      "metadata": {
        "id": "aiR5UFq0MbiH"
      }
    },
    {
      "cell_type": "code",
      "source": [
        "# T-Test for numerical features\n",
        "\n",
        "from scipy.stats import ttest_ind\n",
        "\n",
        "for col in numerical_columns:\n",
        "\n",
        "    positive_diagnosis = df[df['Exited'] == 1][col]\n",
        "    negative_diagnosis = df[df['Exited'] == 0][col]\n",
        "\n",
        "    t_stat, p_val = ttest_ind(positive_diagnosis, negative_diagnosis)\n",
        "    print(f'T-Test for {col}: t-statistic = {t_stat}, p-value = {p_val}')"
      ],
      "metadata": {
        "id": "74NXsneDMgSX"
      },
      "execution_count": null,
      "outputs": []
    },
    {
      "cell_type": "code",
      "source": [
        "# ANOVA for numerical features grouped by categorical features\n",
        "\n",
        "from scipy.stats import f_oneway\n",
        "\n",
        "for col in numerical_columns:\n",
        "\n",
        "    for cat_col in categorical_columns:\n",
        "        unique_groups = df[cat_col].unique()\n",
        "\n",
        "        if len(unique_groups) > 1:\n",
        "            groups = [df[df[cat_col] == group][col] for group in unique_groups]\n",
        "            f_stat, p_val = f_oneway(*groups)\n",
        "            print(f'ANOVA for {col} grouped by {cat_col}: F-statistic = {f_stat}, p-value = {p_val}')"
      ],
      "metadata": {
        "id": "JYrzmwqEN3S4"
      },
      "execution_count": null,
      "outputs": []
    },
    {
      "cell_type": "code",
      "source": [
        "df.head(5)"
      ],
      "metadata": {
        "id": "-KUOMj1_LMDg"
      },
      "execution_count": null,
      "outputs": []
    },
    {
      "cell_type": "markdown",
      "source": [
        "# Correlation with the Exited"
      ],
      "metadata": {
        "id": "i6kCaRieiPPD"
      }
    },
    {
      "cell_type": "code",
      "source": [
        "COA_corr = pd.DataFrame(df.corr()['Exited'])\n",
        "COA_corr.rename({'Exited': 'Correlation Coeffecient'}, axis=1, inplace=True)\n",
        "COA_corr.drop('Exited', inplace=True)\n",
        "COA_corr.sort_values(['Correlation Coeffecient'], ascending=False, inplace=True)\n",
        "COA_corr_x = COA_corr.index\n",
        "COA_corr_y = COA_corr['Correlation Coeffecient']\n",
        "sns.barplot(y=COA_corr_x,x=COA_corr_y).set_title('Exited Correlation Coeffecients', size='30')\n",
        "plt.show()"
      ],
      "metadata": {
        "id": "PX0z5XLbiUX4"
      },
      "execution_count": null,
      "outputs": []
    },
    {
      "cell_type": "code",
      "source": [
        "COA_corr"
      ],
      "metadata": {
        "id": "PQpLAMa_itvT"
      },
      "execution_count": null,
      "outputs": []
    },
    {
      "cell_type": "markdown",
      "source": [
        "# Regression and Classification Algorithms on the Entire Dataset"
      ],
      "metadata": {
        "id": "MhDL52jIPpKg"
      }
    },
    {
      "cell_type": "code",
      "source": [
        "X = df.drop('Exited', axis=1)\n",
        "y = df['Exited']\n"
      ],
      "metadata": {
        "id": "5SiTBSg2jaK3"
      },
      "execution_count": null,
      "outputs": []
    },
    {
      "cell_type": "markdown",
      "source": [
        "Train-Test Split on the Columns"
      ],
      "metadata": {
        "id": "iu_OoX6LjfJP"
      }
    },
    {
      "cell_type": "code",
      "source": [
        "X_train , X_test , y_train , y_test = train_test_split(X,y,test_size=0.2,random_state=42)"
      ],
      "metadata": {
        "id": "LH702qNkjjSK"
      },
      "execution_count": null,
      "outputs": []
    },
    {
      "cell_type": "markdown",
      "source": [
        "# Regression Model  ( Supervised Machine Learning )"
      ],
      "metadata": {
        "id": "qiiHxj0hjMjt"
      }
    },
    {
      "cell_type": "markdown",
      "source": [
        "Applying the Regression  Algorithm"
      ],
      "metadata": {
        "id": "GcaChNlvj_t6"
      }
    },
    {
      "cell_type": "markdown",
      "source": [
        "Putting all the Regression Models in the Dict named Models"
      ],
      "metadata": {
        "id": "KoVPoKOcodXK"
      }
    },
    {
      "cell_type": "code",
      "source": [
        "# Apply Regression  Learning Models\n",
        "models = {\n",
        "    'Linear Regression': LinearRegression(),\n",
        "    'Ridge Regression': Ridge(),\n",
        "    'Lasso Regression': Lasso(),\n",
        "    'ElasticNet Regression': ElasticNet(),\n",
        "    'Decision Tree': DecisionTreeRegressor(),\n",
        "    'Random Forest': RandomForestRegressor(),\n",
        "    'SVM': SVR(),\n",
        "    'Gradient Boosting': GradientBoostingRegressor(),\n",
        "    'Neural Network': MLPRegressor(max_iter=50)\n",
        "\n",
        "}"
      ],
      "metadata": {
        "id": "ocwE4eU6kHoh"
      },
      "execution_count": null,
      "outputs": []
    },
    {
      "cell_type": "markdown",
      "source": [
        "We are running a loop through models and fitting our data fir each and everymodel , and for each and everymodel we are calculating the R2 Score , MSE ,RMSE and MAE ."
      ],
      "metadata": {
        "id": "LOFUW0Ysom57"
      }
    },
    {
      "cell_type": "code",
      "source": [
        "import sklearn.metrics as metrics\n",
        "from sklearn.metrics import r2_score, mean_squared_error, mean_absolute_error\n",
        "\n",
        "results = []\n",
        "\n",
        "for model_name, model in models.items():\n",
        "    model.fit(X_train, y_train)\n",
        "    y_pred = model.predict(X_test)\n",
        "    #y_proba = model.predict_proba(X_test)#[:, #0]\n",
        "\n",
        "    results.append({\n",
        "        'Model': model_name,\n",
        "\n",
        "        'R2_score': r2_score(y_test, y_pred),\n",
        "        'MSE': mean_squared_error(y_test, y_pred),\n",
        "        'RMSE': mean_squared_error(y_test, y_pred, squared=False),\n",
        "        'MAE': mean_absolute_error(y_test, y_pred)\n",
        "    })\n",
        "\n",
        "results_df = pd.DataFrame(results)\n",
        "results_df.sort_values(by='R2_score', ascending=False, inplace=True)\n",
        "\n",
        "results_df"
      ],
      "metadata": {
        "id": "r7cniJMenQIU"
      },
      "execution_count": null,
      "outputs": []
    },
    {
      "cell_type": "markdown",
      "source": [
        "As R2_score is most important parameter for Regression so we have have an ascending order list . But this is not giving us Satisfying results"
      ],
      "metadata": {
        "id": "S3n2n5GWo1Vu"
      }
    },
    {
      "cell_type": "markdown",
      "source": [
        "# Classification Model  ( Supervised Machine Learning )"
      ],
      "metadata": {
        "id": "kuwkhM1crTzO"
      }
    },
    {
      "cell_type": "code",
      "source": [
        "X = df.drop('Exited', axis=1)\n",
        "y = df['Exited']\n"
      ],
      "metadata": {
        "id": "f8juyd6ZrTzP"
      },
      "execution_count": null,
      "outputs": []
    },
    {
      "cell_type": "markdown",
      "source": [
        "Train-Test Split on the Columns"
      ],
      "metadata": {
        "id": "AKUKM5XrrTzP"
      }
    },
    {
      "cell_type": "code",
      "source": [
        "X_train , X_test , y_train , y_test = train_test_split(X,y,test_size=0.2,random_state=42)"
      ],
      "metadata": {
        "id": "97ZC6BuzrTzP"
      },
      "execution_count": null,
      "outputs": []
    },
    {
      "cell_type": "markdown",
      "source": [
        "Applying the Classification  Algorithms"
      ],
      "metadata": {
        "id": "qN22FmmfrWoI"
      }
    },
    {
      "cell_type": "markdown",
      "source": [
        "Putting all the Regression Models in the Dict named Models"
      ],
      "metadata": {
        "id": "KC64vNnsrWoJ"
      }
    },
    {
      "cell_type": "code",
      "source": [
        "from sklearn.naive_bayes import GaussianNB\n",
        "\n",
        "from sklearn.ensemble import ExtraTreesClassifier\n"
      ],
      "metadata": {
        "id": "VOMlT68pyXyR"
      },
      "execution_count": null,
      "outputs": []
    },
    {
      "cell_type": "code",
      "source": [
        "# Apply Classification  Learning Models\n",
        "models = {\n",
        "    'Logistic Regression': LogisticRegression(max_iter=50),\n",
        "    'Decision Tree': DecisionTreeClassifier(),\n",
        "    'Random Forest': RandomForestClassifier(),\n",
        "    'SVM': SVC(probability=True),\n",
        "    'Gradient Boosting': GradientBoostingClassifier(),\n",
        "    'Neural Network': MLPClassifier(max_iter=50),\n",
        "    'K-Nearest Neighbors': KNeighborsClassifier(),\n",
        "    'Extra Trees': ExtraTreesClassifier()\n",
        "}"
      ],
      "metadata": {
        "id": "JxO4NZD_P7WG"
      },
      "execution_count": null,
      "outputs": []
    },
    {
      "cell_type": "markdown",
      "source": [
        "\\We are running a loop through models and fitting our data for each and everymodel , and for each and everymodel we are calculating the Accuracy , Recall , Precision , F1_score and ROC_AUC"
      ],
      "metadata": {
        "id": "abIu939KrWoJ"
      }
    },
    {
      "cell_type": "code",
      "source": [
        "results = []\n",
        "\n",
        "for model_name, model in models.items():\n",
        "    model.fit(X_train, y_train)\n",
        "    y_pred = model.predict(X_test)\n",
        "    y_proba = model.predict_proba(X_test)[:, 0]\n",
        "\n",
        "    results.append({\n",
        "        'Model': model_name,\n",
        "        'Accuracy': accuracy_score(y_test, y_pred),\n",
        "\n",
        "        'Precision': precision_score(y_test, y_pred, average='weighted'),\n",
        "        'Recall': recall_score(y_test, y_pred, average='weighted'),\n",
        "        'F1 Score': f1_score(y_test, y_pred, average='weighted'),\n",
        "\n",
        "        'ROC-AUC': roc_auc_score(y_test, y_proba, multi_class='ovr' , average='weighted' )\n",
        "    })\n",
        "\n",
        "results_df = pd.DataFrame(results)\n",
        "results_df.sort_values(by='ROC-AUC', ascending=False, inplace=True)\n",
        "\n",
        "results_df"
      ],
      "metadata": {
        "id": "Th9G5oIvP96F"
      },
      "execution_count": null,
      "outputs": []
    },
    {
      "cell_type": "markdown",
      "source": [
        "As ROC-AUC is most important parameter for Regression so we have have an ascending order list . But this is not giving us Satisfying results"
      ],
      "metadata": {
        "id": "fk_B1-fRrWoJ"
      }
    },
    {
      "cell_type": "markdown",
      "source": [
        "# ALgorithm on Selective Columns"
      ],
      "metadata": {
        "id": "xXMnp26kyrve"
      }
    },
    {
      "cell_type": "markdown",
      "source": [
        "Well I would Hyper-Parameter Tune RF Classifier and Decision Tree classifier Before that  i want to do the above process with some specific Columns that we got from EDA and Correlation ."
      ],
      "metadata": {
        "id": "rLsLXyvlxa4C"
      }
    },
    {
      "cell_type": "markdown",
      "source": [
        "![Screenshot 2024-11-05 061851.png](data:image/png;base64,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)"
      ],
      "metadata": {
        "id": "y8BnkuE6y9mB"
      }
    },
    {
      "cell_type": "code",
      "source": [
        "X = df.drop(['Exited','EstimatedSalary','HasCrCard','Tenure','CreditScore'], axis=1)\n",
        "y = df['Exited']"
      ],
      "metadata": {
        "id": "YVqI4W__yx3z"
      },
      "execution_count": null,
      "outputs": []
    },
    {
      "cell_type": "code",
      "source": [
        "X_train , X_test , y_train , y_test = train_test_split(X,y,test_size=0.2,random_state=42)"
      ],
      "metadata": {
        "id": "MzdNXEDq0EXJ"
      },
      "execution_count": null,
      "outputs": []
    },
    {
      "cell_type": "markdown",
      "source": [
        "# Regression Model  ( Supervised Machine Learning )"
      ],
      "metadata": {
        "id": "N_q0iIll0R77"
      }
    },
    {
      "cell_type": "markdown",
      "source": [
        "Applying the Regression  Algorithm"
      ],
      "metadata": {
        "id": "6IMQ4jpJ0R78"
      }
    },
    {
      "cell_type": "markdown",
      "source": [
        "Putting all the Regression Models in the Dict named Models"
      ],
      "metadata": {
        "id": "cFgiw44L0R78"
      }
    },
    {
      "cell_type": "code",
      "source": [
        "# Apply Regression  Learning Models\n",
        "models = {\n",
        "    'Linear Regression': LinearRegression(),\n",
        "    'Ridge Regression': Ridge(),\n",
        "    'Lasso Regression': Lasso(),\n",
        "    'ElasticNet Regression': ElasticNet(),\n",
        "    'Decision Tree': DecisionTreeRegressor(),\n",
        "    'Random Forest': RandomForestRegressor(),\n",
        "    'SVM': SVR(),\n",
        "    'Gradient Boosting': GradientBoostingRegressor(),\n",
        "    'Neural Network': MLPRegressor(max_iter=50)\n",
        "\n",
        "}"
      ],
      "metadata": {
        "id": "zxFhkQHG0R78"
      },
      "execution_count": null,
      "outputs": []
    },
    {
      "cell_type": "markdown",
      "source": [
        "We are running a loop through models and fitting our data fir each and everymodel , and for each and everymodel we are calculating the R2 Score , MSE ,RMSE and MAE ."
      ],
      "metadata": {
        "id": "XUTLvTGD0R78"
      }
    },
    {
      "cell_type": "code",
      "source": [
        "import sklearn.metrics as metrics\n",
        "from sklearn.metrics import r2_score, mean_squared_error, mean_absolute_error\n",
        "\n",
        "results = []\n",
        "\n",
        "for model_name, model in models.items():\n",
        "    model.fit(X_train, y_train)\n",
        "    y_pred = model.predict(X_test)\n",
        "    #y_proba = model.predict_proba(X_test)#[:, #0]\n",
        "\n",
        "    results.append({\n",
        "        'Model': model_name,\n",
        "\n",
        "        'R2_score': r2_score(y_test, y_pred),\n",
        "        'MSE': mean_squared_error(y_test, y_pred),\n",
        "        'RMSE': mean_squared_error(y_test, y_pred, squared=False),\n",
        "        'MAE': mean_absolute_error(y_test, y_pred)\n",
        "    })\n",
        "\n",
        "results_df = pd.DataFrame(results)\n",
        "results_df.sort_values(by='R2_score', ascending=False, inplace=True)\n",
        "\n",
        "results_df"
      ],
      "metadata": {
        "id": "vVXTCXCz0R79"
      },
      "execution_count": null,
      "outputs": []
    },
    {
      "cell_type": "markdown",
      "source": [
        "As R2_score is most important parameter for Regression so we have have an ascending order list . But this is not giving us Satisfying results"
      ],
      "metadata": {
        "id": "LmD_N3Lk0R79"
      }
    },
    {
      "cell_type": "markdown",
      "source": [
        "NOT Satisfactory Result but ALL THE ALgorithms Performance have Improved ( GREAT NEWS  )"
      ],
      "metadata": {
        "id": "Pabljtnv1LJi"
      }
    },
    {
      "cell_type": "markdown",
      "source": [
        "# Classification Model  ( Supervised Machine Learning )"
      ],
      "metadata": {
        "id": "UwmYeRz41vrd"
      }
    },
    {
      "cell_type": "markdown",
      "source": [
        "Putting all the Regression Models in the Dict named Models"
      ],
      "metadata": {
        "id": "ilW3QVsu1vrf"
      }
    },
    {
      "cell_type": "code",
      "source": [
        "from sklearn.naive_bayes import GaussianNB\n",
        "\n",
        "from sklearn.ensemble import ExtraTreesClassifier\n"
      ],
      "metadata": {
        "id": "-8I5G3UN1vrf"
      },
      "execution_count": null,
      "outputs": []
    },
    {
      "cell_type": "code",
      "source": [
        "# Apply Classification  Learning Models\n",
        "models = {\n",
        "    'Logistic Regression': LogisticRegression(max_iter=50),\n",
        "    'Decision Tree': DecisionTreeClassifier(),\n",
        "    'Random Forest': RandomForestClassifier(),\n",
        "    'SVM': SVC(probability=True),\n",
        "    'K-Nearest Neighbors': KNeighborsClassifier(),\n",
        "    'Extra Trees': ExtraTreesClassifier()\n",
        "}"
      ],
      "metadata": {
        "id": "rvH8xADB1vrf"
      },
      "execution_count": null,
      "outputs": []
    },
    {
      "cell_type": "markdown",
      "source": [
        "\\We are running a loop through models and fitting our data for each and everymodel , and for each and everymodel we are calculating the Accuracy , Recall , Precision , F1_score and ROC_AUC"
      ],
      "metadata": {
        "id": "kmFN1RYx1vrf"
      }
    },
    {
      "cell_type": "code",
      "source": [
        "results = []\n",
        "\n",
        "for model_name, model in models.items():\n",
        "    model.fit(X_train, y_train)\n",
        "    y_pred = model.predict(X_test)\n",
        "    y_proba = model.predict_proba(X_test)[:, 0]\n",
        "\n",
        "    results.append({\n",
        "        'Model': model_name,\n",
        "        'Accuracy': accuracy_score(y_test, y_pred),\n",
        "\n",
        "        'Precision': precision_score(y_test, y_pred, average='weighted'),\n",
        "        'Recall': recall_score(y_test, y_pred, average='weighted'),\n",
        "        'F1 Score': f1_score(y_test, y_pred, average='weighted'),\n",
        "\n",
        "        'ROC-AUC': roc_auc_score(y_test, y_proba, multi_class='ovr' , average='weighted' )\n",
        "    })\n",
        "\n",
        "results_df = pd.DataFrame(results)\n",
        "results_df.sort_values(by='ROC-AUC', ascending=False, inplace=True)\n",
        "\n",
        "results_df"
      ],
      "metadata": {
        "id": "DdsxyTPi1vrf"
      },
      "execution_count": null,
      "outputs": []
    },
    {
      "cell_type": "markdown",
      "source": [
        "As ROC-AUC and f1_score are  most important parameter for Regression so we have have an ascending order list . But this is not giving us Satisfying results"
      ],
      "metadata": {
        "id": "35Fb7GVj1vrf"
      }
    },
    {
      "cell_type": "markdown",
      "source": [
        "# Confusion Matrix"
      ],
      "metadata": {
        "id": "cWnIAI1-4C3n"
      }
    },
    {
      "source": [
        "import matplotlib.pyplot as plt\n",
        "from sklearn.metrics import confusion_matrix, ConfusionMatrixDisplay\n",
        "\n",
        "results = []\n",
        "\n",
        "for model_name, model in models.items():         #fitting , predicting and probablity\n",
        "    model.fit(X_train, y_train)\n",
        "    y_pred = model.predict(X_test)\n",
        "    y_proba = model.predict_proba(X_test)[:, 0] if hasattr(model, \"predict_proba\") else None\n",
        "\n",
        "\n",
        "    cm = confusion_matrix(y_test, y_pred)          # creating our C matrix\n",
        "    disp = ConfusionMatrixDisplay(confusion_matrix=cm, display_labels=model.classes_)  # displaying it\n",
        "\n",
        "\n",
        "    disp.plot(cmap='Blues', ax=plt.gca())           # displaying the 6 graphs\n",
        "    plt.title(f'Confusion Matrix for {model_name}')\n",
        "    plt.show()"
      ],
      "cell_type": "code",
      "metadata": {
        "id": "NvDqu-L56tlM"
      },
      "execution_count": null,
      "outputs": []
    },
    {
      "cell_type": "markdown",
      "source": [
        "# GridSearch CV Hyper-parameter Tuning on Logistic Reg , Decision Tree and Random Forest"
      ],
      "metadata": {
        "id": "4Zm8f66bKOEc"
      }
    },
    {
      "cell_type": "markdown",
      "source": [
        "# Decision Tree"
      ],
      "metadata": {
        "id": "GVEqu6X7br09"
      }
    },
    {
      "cell_type": "code",
      "source": [
        "clf = DecisionTreeClassifier()\n",
        "clf.fit(X_train, y_train)\n",
        "y_pred = clf.predict(X_test)"
      ],
      "metadata": {
        "id": "Y6TzmrgGfa9c"
      },
      "execution_count": null,
      "outputs": []
    },
    {
      "cell_type": "code",
      "source": [
        "param_dist = {\n",
        "    'criterion':['gini','entropy'],\n",
        "    'max_depth':[2,3,4,5,None],\n",
        "    'splitter':['best','random'],\n",
        "    'max_features':[2,3, 4 ,5, 6],\n",
        "    'min_samples_leaf':[10 ,15,18],\n",
        "    'min_samples_split':[15 , 20 ,25],\n",
        "    'max_leaf_nodes':[10,15,18]\n",
        "\n",
        "}\n"
      ],
      "metadata": {
        "id": "nc5XEuShVxke"
      },
      "execution_count": null,
      "outputs": []
    },
    {
      "cell_type": "code",
      "source": [
        "\n",
        "from sklearn.model_selection import GridSearchCV\n",
        "grid=GridSearchCV(clf,param_dist,cv=5,n_jobs=-1)\n",
        "grid.fit(X_train,y_train)"
      ],
      "metadata": {
        "id": "qDZmtjdlVxh_"
      },
      "execution_count": null,
      "outputs": []
    },
    {
      "cell_type": "code",
      "source": [
        "grid.best_estimator_    # this gives the best combination of the estimators"
      ],
      "metadata": {
        "id": "Kq9MWci1VxfR"
      },
      "execution_count": null,
      "outputs": []
    },
    {
      "cell_type": "code",
      "source": [
        "grid.best_score_\n",
        ""
      ],
      "metadata": {
        "id": "ZwAaF9tzVxcJ"
      },
      "execution_count": null,
      "outputs": []
    },
    {
      "cell_type": "code",
      "source": [
        "\n",
        "grid.best_params_"
      ],
      "metadata": {
        "id": "ttuyQLHmVxYZ"
      },
      "execution_count": null,
      "outputs": []
    },
    {
      "cell_type": "markdown",
      "source": [
        "# Random Forest"
      ],
      "metadata": {
        "id": "HiAqQKxWlYCc"
      }
    },
    {
      "cell_type": "code",
      "source": [
        "rf = RandomForestClassifier()\n",
        "rf.fit(X_train, y_train)\n",
        "\n",
        "y_pred = rf.predict(X_test)\n",
        "\n",
        "accuracy = accuracy_score(y_test, y_pred)\n",
        "print(\"Accuracy:\", accuracy)\n",
        ""
      ],
      "metadata": {
        "id": "jZMWaa8JmA5b"
      },
      "execution_count": null,
      "outputs": []
    },
    {
      "cell_type": "code",
      "source": [
        "clf1 = RandomForestClassifier()\n",
        "clf1.fit(X_train, y_train)\n",
        "y_pred = clf.predict(X_test)"
      ],
      "metadata": {
        "id": "4YRtqTd_p90f"
      },
      "execution_count": null,
      "outputs": []
    },
    {
      "cell_type": "code",
      "source": [
        "param_grid = {\n",
        "    'n_estimators': [150],\n",
        "    'max_depth': [10,15],\n",
        "    'criterion':['gini'],\n",
        "    'max_features':[ 4 ,5, 6],\n",
        "    'min_samples_leaf':[ 15,25],\n",
        "    'min_samples_split':[15 , 25 ]\n",
        "}"
      ],
      "metadata": {
        "id": "H2OfQDuknVhv"
      },
      "execution_count": null,
      "outputs": []
    },
    {
      "cell_type": "code",
      "source": [
        "rf_grid  = GridSearchCV(estimator=rf , param_grid=param_grid , cv=5 , verbose=2 , n_jobs=-1)\n",
        "\n",
        "rf_grid.fit(X_train , y_train)"
      ],
      "metadata": {
        "id": "e4gY8wbdnH3E"
      },
      "execution_count": null,
      "outputs": []
    },
    {
      "cell_type": "code",
      "source": [
        "grid.best_estimator_"
      ],
      "metadata": {
        "id": "7FSpizczmB18"
      },
      "execution_count": null,
      "outputs": []
    },
    {
      "cell_type": "code",
      "source": [
        "rf_grid.best_params_"
      ],
      "metadata": {
        "id": "kpweb2r-mBya"
      },
      "execution_count": null,
      "outputs": []
    },
    {
      "cell_type": "code",
      "source": [
        "rf_grid.best_score_"
      ],
      "metadata": {
        "id": "CSr2Bj7OmBvf"
      },
      "execution_count": null,
      "outputs": []
    },
    {
      "cell_type": "markdown",
      "source": [
        "# Logistic Regression"
      ],
      "metadata": {
        "id": "XC0g0iR7DWXT"
      }
    },
    {
      "cell_type": "code",
      "source": [
        "logr = LogisticRegression()\n",
        "logr.fit(X_train, y_train)\n",
        "\n",
        "y_pred = logr.predict(X_test)\n",
        "\n",
        "accuracy = accuracy_score(y_test, y_pred)\n",
        "print(\"Accuracy:\", accuracy)\n",
        ""
      ],
      "metadata": {
        "id": "bLCy23BGEE_I"
      },
      "execution_count": null,
      "outputs": []
    },
    {
      "cell_type": "code",
      "source": [
        "clf2 = LogisticRegression()\n",
        "clf2.fit(X_train, y_train)\n",
        "y_pred = clf.predict(X_test)"
      ],
      "metadata": {
        "id": "YRDEGgK3Gded"
      },
      "execution_count": null,
      "outputs": []
    },
    {
      "cell_type": "code",
      "source": [
        "param_grid = {\n",
        "    'penalty' : ['l1', 'l2', 'elasticnet'],\n",
        "    'C' : [ 0.01, 0.1, 1, 10],\n",
        "    'solver' : ['lbfgs','sag','saga'],\n",
        "    'max_iter' : [500, 1000,2000,5000]\n",
        "}"
      ],
      "metadata": {
        "id": "R0Cdql45GrfX"
      },
      "execution_count": null,
      "outputs": []
    },
    {
      "cell_type": "code",
      "source": [
        "logr_grid  = GridSearchCV(estimator=logr , param_grid=param_grid , cv=5 , verbose=2 , n_jobs=-1)\n",
        "\n",
        "logr_grid.fit(X_train , y_train)"
      ],
      "metadata": {
        "id": "k5sUtb0LGjZV"
      },
      "execution_count": null,
      "outputs": []
    },
    {
      "cell_type": "code",
      "source": [
        "grid.best_estimator_"
      ],
      "metadata": {
        "id": "JdaVUIx-FwOQ"
      },
      "execution_count": null,
      "outputs": []
    },
    {
      "cell_type": "code",
      "source": [
        "logr_grid.best_params_"
      ],
      "metadata": {
        "id": "sn-boX_HGJJ_"
      },
      "execution_count": null,
      "outputs": []
    },
    {
      "cell_type": "code",
      "source": [
        "logr_grid.best_score_"
      ],
      "metadata": {
        "id": "HouRCqNBGSk9"
      },
      "execution_count": null,
      "outputs": []
    }
  ]
}