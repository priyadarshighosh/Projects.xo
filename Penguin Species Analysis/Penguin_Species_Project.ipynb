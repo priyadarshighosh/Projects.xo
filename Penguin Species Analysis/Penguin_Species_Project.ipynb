{
  "nbformat": 4,
  "nbformat_minor": 0,
  "metadata": {
    "colab": {
      "private_outputs": true,
      "provenance": []
    },
    "kernelspec": {
      "name": "python3",
      "display_name": "Python 3"
    },
    "language_info": {
      "name": "python"
    }
  },
  "cells": [
    {
      "cell_type": "markdown",
      "source": [
        "# Penguin Species Analysis"
      ],
      "metadata": {
        "id": "buV9E0bf-37g"
      }
    },
    {
      "cell_type": "markdown",
      "source": [
        "IMPORTING THE DATA SCIENCE LIBRARIES"
      ],
      "metadata": {
        "id": "HNvHInaq_BMJ"
      }
    },
    {
      "cell_type": "code",
      "execution_count": null,
      "metadata": {
        "id": "eum2WGOnBeeL"
      },
      "outputs": [],
      "source": [
        "\n",
        "import numpy as np\n",
        "import pandas as pd\n",
        "import seaborn as sns\n",
        "import matplotlib.pyplot as plt\n",
        "\n",
        "import time"
      ]
    },
    {
      "cell_type": "markdown",
      "source": [
        "Importing the ML / Scikit learn EVERYTHING"
      ],
      "metadata": {
        "id": "egI1aKHM_G4g"
      }
    },
    {
      "cell_type": "code",
      "source": [
        "from sklearn.model_selection import train_test_split               #for splitting the data into test and training data\n",
        "from sklearn.compose import ColumnTransformer                       #for transforming the columns\n",
        "from sklearn.impute import SimpleImputer                             #for imputing the missing values\n",
        "from sklearn.preprocessing import OneHotEncoder                      #one hot encoding\n",
        "from sklearn.preprocessing import MinMaxScaler                        #standard scaling\n",
        "\n",
        "from sklearn.datasets import load_diabetes\n",
        "\n",
        "from sklearn.datasets import make_regression\n",
        "\n",
        "import plotly.express as px\n",
        "import plotly.graph_objects as go\n",
        "from sklearn.datasets import make_classification\n",
        "\n",
        "from sklearn.preprocessing import LabelEncoder\n",
        "from sklearn.model_selection import train_test_split\n",
        "from sklearn.metrics import accuracy_score                 # for accuracy score\n",
        "from sklearn.model_selection import cross_val_score        # for cross validation score\n",
        "\n",
        "from sklearn.linear_model import LinearRegression           # Import the LinearRegression class\n",
        "from sklearn.metrics import mean_squared_error, r2_score    # to find out the error functions\n",
        "from sklearn.preprocessing import PolynomialFeatures , StandardScaler   # for the polunomial features\n",
        "\n",
        "from sklearn.pipeline import Pipeline\n",
        "from sklearn.linear_model import Ridge   # ridge Regression\n",
        "from sklearn.linear_model import LogisticRegression\n",
        "\n",
        "\n",
        "from sklearn.tree import DecisionTreeClassifier                 #Decision tree\n",
        "from sklearn.ensemble import RandomForestClassifier, GradientBoostingClassifier   # bagging and Boosting\n",
        "from sklearn.svm import SVC\n",
        "from sklearn.neural_network import MLPClassifier\n",
        "from sklearn.metrics import accuracy_score, precision_score, recall_score, f1_score, roc_auc_score   # different metrices to check how our model performed"
      ],
      "metadata": {
        "id": "dy4Bw0vn4yUB"
      },
      "execution_count": null,
      "outputs": []
    },
    {
      "cell_type": "markdown",
      "source": [
        "Importing Deep learning Everything"
      ],
      "metadata": {
        "id": "7EOOII0y82hE"
      }
    },
    {
      "cell_type": "code",
      "source": [
        "import tensorflow as tf\n",
        "from tensorflow import keras\n",
        "from tensorflow.keras import Sequential\n",
        "from tensorflow.keras.layers import Dense\n",
        "\n",
        "from tensorflow.keras.layers import Dropout\n",
        "from tensorflow.keras.optimizers import Adam"
      ],
      "metadata": {
        "id": "O1qjFngb87Y8"
      },
      "execution_count": null,
      "outputs": []
    },
    {
      "cell_type": "markdown",
      "source": [
        "Importing mathematical models"
      ],
      "metadata": {
        "id": "5oPnYaeAM0_1"
      }
    },
    {
      "cell_type": "code",
      "source": [
        "# prompt: import the mathematical testing framewroks\n",
        "\n",
        "# Importing mathematical models\n",
        "import math\n",
        "\n",
        "from scipy import stats\n",
        "\n",
        "import scipy.stats as stats\n",
        "import statsmodels.api as sm"
      ],
      "metadata": {
        "id": "G_2PyN5pNV1q"
      },
      "execution_count": null,
      "outputs": []
    },
    {
      "cell_type": "markdown",
      "source": [
        "# Loading and Information about the Dataset"
      ],
      "metadata": {
        "id": "XTPRT3iy9EuI"
      }
    },
    {
      "cell_type": "code",
      "source": [
        "from google.colab import files    # we are importing the file from the device\n",
        "uploaded = files.upload()"
      ],
      "metadata": {
        "id": "GiKUuK2LUcY4"
      },
      "execution_count": null,
      "outputs": []
    },
    {
      "cell_type": "markdown",
      "source": [
        "Categorical encoding has already being performed"
      ],
      "metadata": {
        "id": "u9tMczjh9x1H"
      }
    },
    {
      "cell_type": "code",
      "source": [
        "df=pd.read_csv('penguins_size(1).csv')   #fitting the data in the df dataframe\n",
        "df.head(100)"
      ],
      "metadata": {
        "id": "PAXRZRNaJVKO",
        "collapsed": true
      },
      "execution_count": null,
      "outputs": []
    },
    {
      "cell_type": "code",
      "source": [
        "df['sex'].unique()"
      ],
      "metadata": {
        "id": "cSr1ynjlHAdx"
      },
      "execution_count": null,
      "outputs": []
    },
    {
      "cell_type": "code",
      "source": [
        "df['sex'].value_counts()"
      ],
      "metadata": {
        "id": "Jhlyln16HYrk"
      },
      "execution_count": null,
      "outputs": []
    },
    {
      "cell_type": "code",
      "source": [
        "df.shape\n"
      ],
      "metadata": {
        "id": "fkHEM3gG747n"
      },
      "execution_count": null,
      "outputs": []
    },
    {
      "cell_type": "code",
      "source": [
        "df.describe()"
      ],
      "metadata": {
        "id": "tI7KmcrM79Sh"
      },
      "execution_count": null,
      "outputs": []
    },
    {
      "cell_type": "code",
      "source": [
        "df.info()"
      ],
      "metadata": {
        "id": "i0p4tkGa8LcT"
      },
      "execution_count": null,
      "outputs": []
    },
    {
      "cell_type": "markdown",
      "source": [
        " There is no null data present in our Dataset"
      ],
      "metadata": {
        "id": "wUxiZbKg8QuQ"
      }
    },
    {
      "cell_type": "markdown",
      "source": [
        "# Data Preprocessing"
      ],
      "metadata": {
        "id": "YP84BY9b8Zdz"
      }
    },
    {
      "cell_type": "code",
      "source": [
        "df.duplicated().sum()          # Checking the Duplicate Columns"
      ],
      "metadata": {
        "id": "iUBfdUMF8dqS"
      },
      "execution_count": null,
      "outputs": []
    },
    {
      "cell_type": "markdown",
      "source": [
        " #  Encoding the Categorical Values"
      ],
      "metadata": {
        "id": "54GFBIsKAA4W"
      }
    },
    {
      "cell_type": "code",
      "source": [
        "label_encoders = {}\n",
        "categorical_columns = [\n",
        "    'sex', 'island', 'species'\n",
        "]\n",
        "\n",
        "for col in categorical_columns:\n",
        "    le = LabelEncoder()\n",
        "    df[col] = le.fit_transform(df[col])\n",
        "    label_encoders[col] = le"
      ],
      "metadata": {
        "id": "RwFzWD_NAEbB"
      },
      "execution_count": null,
      "outputs": []
    },
    {
      "cell_type": "code",
      "source": [
        "df.head()"
      ],
      "metadata": {
        "collapsed": true,
        "id": "7FJKVu1OEqaZ"
      },
      "execution_count": null,
      "outputs": []
    },
    {
      "cell_type": "code",
      "source": [
        "df['sex'].unique()"
      ],
      "metadata": {
        "id": "b0FW8bj_IZyt"
      },
      "execution_count": null,
      "outputs": []
    },
    {
      "cell_type": "markdown",
      "source": [
        "# Standard Scaling the numeric values"
      ],
      "metadata": {
        "id": "p7-0H-rSAg7X"
      }
    },
    {
      "cell_type": "code",
      "source": [
        "numerical_columns =  [ 'culmen_length_mm', 'culmen_depth_mm', 'flipper_length_mm', 'body_mass_g']\n",
        "\n",
        "\n",
        "def remove_outliers(df , columns ):       # Outlier detection of the Numeric columns\n",
        "  for col in columns:\n",
        "\n",
        "    Q1 = df[col].quantile(0.25)\n",
        "    Q3 = df[col].quantile(0.75)\n",
        "    IQR = Q3 - Q1\n",
        "\n",
        "    lower_bound = Q1 - 1.5 * IQR\n",
        "    upper_bound = Q3 + 1.5 * IQR\n",
        "\n",
        "    df = df[(df[col] >= lower_bound) & (df[col] <= upper_bound)]\n",
        "\n",
        "  return df\n",
        "\n",
        "df = remove_outliers(df , numerical_columns)"
      ],
      "metadata": {
        "id": "XePWWals8sqi"
      },
      "execution_count": null,
      "outputs": []
    },
    {
      "cell_type": "code",
      "source": [
        "# Scale numerical features\n",
        "scaler = StandardScaler()\n",
        "df[numerical_columns] = scaler.fit_transform(df[numerical_columns])"
      ],
      "metadata": {
        "id": "F-OkP875As0B"
      },
      "execution_count": null,
      "outputs": []
    },
    {
      "cell_type": "markdown",
      "source": [
        "We are using Inter-quartile Range to find the ouliers in the Numerical Continuous Values of the Numerical columns that we have"
      ],
      "metadata": {
        "id": "hLGjtdxj-gIm"
      }
    },
    {
      "cell_type": "code",
      "source": [
        "def normalize (df , columns):      # Normalization  of the Numeric Columns\n",
        "\n",
        "  pt = PowerTransformer(method='yeo-johnson')     # Power transformation will help us a Gaussian / Normal Distribution\n",
        "\n",
        "  for col in columns:\n",
        "\n",
        "    skewness = skew(df[col])       # for skewness more than 0.5\n",
        "    if abs(skewness) > 0.5:\n",
        "      df[col] = pt.fit_transform(df[[col]].values.reshape(-1,1))\n",
        "\n",
        "  return df\n",
        "\n",
        "\n",
        "\n",
        "  df = normalize(df , numerical_columns)"
      ],
      "metadata": {
        "id": "8c5RXioe-3tv"
      },
      "execution_count": null,
      "outputs": []
    },
    {
      "cell_type": "code",
      "source": [
        "df.head()"
      ],
      "metadata": {
        "id": "hr_0O7UqGdpS"
      },
      "execution_count": null,
      "outputs": []
    },
    {
      "cell_type": "code",
      "source": [
        "df['sex'].unique()"
      ],
      "metadata": {
        "id": "VGJhieeqGvda"
      },
      "execution_count": null,
      "outputs": []
    },
    {
      "cell_type": "code",
      "source": [
        "df['sex'].value_counts()"
      ],
      "metadata": {
        "id": "634-t1zAIvAp"
      },
      "execution_count": null,
      "outputs": []
    },
    {
      "cell_type": "code",
      "source": [
        "df1 = df.copy()  # Create a copy of the original DataFrame\n",
        "df1 = df1[~df1['sex'].isin([0, 3])]  # Filter out rows where 'sex' is 0 or 3\n",
        "df1.shape"
      ],
      "metadata": {
        "id": "SxeBFrPaJUPG"
      },
      "execution_count": null,
      "outputs": []
    },
    {
      "cell_type": "code",
      "source": [
        "df = df1.copy()"
      ],
      "metadata": {
        "id": "0FzN8NK0fceq"
      },
      "execution_count": null,
      "outputs": []
    },
    {
      "cell_type": "code",
      "source": [
        "df['species'].unique()"
      ],
      "metadata": {
        "id": "iqVfhN_Tj9TK"
      },
      "execution_count": null,
      "outputs": []
    },
    {
      "cell_type": "code",
      "source": [
        "df['species'].value_counts()"
      ],
      "metadata": {
        "id": "IpmJfxC-kEON"
      },
      "execution_count": null,
      "outputs": []
    },
    {
      "cell_type": "markdown",
      "source": [
        "# Exploratory Data Analysis ( EDA )"
      ],
      "metadata": {
        "id": "4PmJ4wEfBBUV"
      }
    },
    {
      "cell_type": "markdown",
      "source": [
        "#  Distribution of NUMERIC FEATURES and Analysis"
      ],
      "metadata": {
        "id": "noe8bZQyhtlP"
      }
    },
    {
      "cell_type": "code",
      "source": [
        "# Distribution plots for numerical features\n",
        "plt.figure(figsize=(18, 18))\n",
        "\n",
        "\n",
        "for i, col in enumerate(numerical_columns):\n",
        "    plt.subplot(4, 3, i + 1)\n",
        "    sns.histplot(df[col], bins=30, kde=True , palette='Set3')\n",
        "    plt.title(f'{col} Distribution')\n",
        "    plt.xlabel(col)\n",
        "    plt.ylabel('Count')\n",
        "\n",
        "\n",
        "plt.tight_layout()\n",
        "plt.show()"
      ],
      "metadata": {
        "id": "vIOVnALRFzbI"
      },
      "execution_count": null,
      "outputs": []
    },
    {
      "cell_type": "markdown",
      "source": [
        "This gives us the 4 graphs for 4 features that we had\n",
        "\n",
        "All the graphs are basically distribution graphs removing the Outliers"
      ],
      "metadata": {
        "id": "NVnj2FGsGLLz"
      }
    },
    {
      "cell_type": "code",
      "source": [
        "# Box plots for numerical features grouped by SPecies\n",
        "\n",
        "\n",
        "plt.figure(figsize=(20, 20))\n",
        "\n",
        "for i, col in enumerate(numerical_columns):\n",
        "    plt.subplot(4, 3, i + 1)\n",
        "    sns.boxplot(x='species', y=col, data=df , palette='Set2')\n",
        "    plt.title(f'{col} by Species')\n",
        "    plt.xlabel('Species')\n",
        "    plt.ylabel(col)\n",
        "\n",
        "plt.legend(loc='upper right')\n",
        "plt.tight_layout()\n",
        "plt.show()"
      ],
      "metadata": {
        "id": "93R5_BR9G909"
      },
      "execution_count": null,
      "outputs": []
    },
    {
      "cell_type": "markdown",
      "source": [
        " We draw graphs of Species  with all their Numerical features such as 4 features given above ."
      ],
      "metadata": {
        "id": "m5CHMObAHZq0"
      }
    },
    {
      "cell_type": "markdown",
      "source": [
        "# CAtegorical Features Analysis"
      ],
      "metadata": {
        "id": "OdsvrnIDiP4G"
      }
    },
    {
      "cell_type": "code",
      "source": [
        "# Count plots for categorical features GROUPED BY SPECIES\n",
        "categorical_columns = [\n",
        "    'sex', 'island',\n",
        "]\n",
        "\n",
        "\n",
        "\n",
        "plt.figure(figsize=(20, 20))\n",
        "\n",
        "\n",
        "for i, col in enumerate(categorical_columns):\n",
        "    plt.subplot(5, 5, i + 1)\n",
        "    sns.plot(x=col, data=df , palette='Set1')\n",
        "    plt.title(f'{col} Count')\n",
        "    plt.xlabel(col)\n",
        "    plt.ylabel('Count')\n",
        "\n",
        "\n",
        "plt.tight_layout()\n",
        "plt.show()"
      ],
      "metadata": {
        "id": "hhZJk6LMH9XF"
      },
      "execution_count": null,
      "outputs": []
    },
    {
      "cell_type": "code",
      "source": [
        "import seaborn as sns\n",
        "import matplotlib.pyplot as plt\n",
        "\n",
        "# Remove rows with missing sex values\n",
        "df_clean = df.dropna(subset=['sex'])\n",
        "\n",
        "# Group by species and sex to count occurrences\n",
        "df_grouped = df_clean.groupby(['species', 'sex']).size().reset_index(name='count')\n",
        "\n",
        "# Plotting the barplot\n",
        "sns.barplot(x='species', y='count', hue='sex', data=df_grouped)\n",
        "\n",
        "# Display the plot\n",
        "plt.title('Male and Female Count per Species')\n",
        "plt.ylabel('Count')\n",
        "plt.xlabel('Species')\n",
        "plt.xticks(rotation=45)  # Rotate species labels if needed\n",
        "plt.show()\n"
      ],
      "metadata": {
        "id": "oipvhQiulRN5"
      },
      "execution_count": null,
      "outputs": []
    },
    {
      "cell_type": "code",
      "source": [
        "import seaborn as sns\n",
        "import matplotlib.pyplot as plt\n",
        "\n",
        "# Remove rows with missing sex values\n",
        "df_clean = df.dropna(subset=['island'])\n",
        "\n",
        "# Group by species and sex to count occurrences\n",
        "df_grouped = df_clean.groupby(['species', 'island']).size().reset_index(name='count')\n",
        "\n",
        "# Plotting the barplot\n",
        "sns.barplot(x='species', y='count', hue='island', data=df_grouped)\n",
        "\n",
        "# Display the plot\n",
        "plt.title('Each species on each Island')\n",
        "plt.ylabel('Count')\n",
        "plt.xlabel('Species')\n",
        "plt.show()\n"
      ],
      "metadata": {
        "id": "fCo7Hy2Vlcp2"
      },
      "execution_count": null,
      "outputs": []
    },
    {
      "cell_type": "markdown",
      "source": [
        "# MULtivariate Analysis of the Numeric Features\n"
      ],
      "metadata": {
        "id": "BfaSA1LEiJyQ"
      }
    },
    {
      "cell_type": "code",
      "source": [
        "# Pairplot to show relationships between features\n",
        "plt.figure(figsize=(15, 15))\n",
        "sns.pairplot(df[numerical_columns + ['species']], hue='species')\n",
        "plt.show()"
      ],
      "metadata": {
        "id": "7Itj5PJ5LLYf"
      },
      "execution_count": null,
      "outputs": []
    },
    {
      "cell_type": "code",
      "source": [
        "# Correlation Heatmap\n",
        "plt.figure(figsize=(20, 15))\n",
        "numeric_data = df[numerical_columns]\n",
        "sns.heatmap(numeric_data.corr(), annot=True, cmap='coolwarm', fmt='.2f')\n",
        "plt.title('Correlation Heatmap')\n",
        "plt.show()"
      ],
      "metadata": {
        "id": "qnaGIC8WL9xZ"
      },
      "execution_count": null,
      "outputs": []
    },
    {
      "cell_type": "markdown",
      "source": [
        "# Statistical Tests"
      ],
      "metadata": {
        "id": "aiR5UFq0MbiH"
      }
    },
    {
      "cell_type": "code",
      "source": [
        "# T-Test for numerical features\n",
        "\n",
        "from scipy.stats import ttest_ind\n",
        "\n",
        "for col in numerical_columns:\n",
        "\n",
        "    positive_diagnosis = df[df['species'] == 1][col]\n",
        "    negative_diagnosis = df[df['species'] == 0][col]\n",
        "\n",
        "    t_stat, p_val = ttest_ind(positive_diagnosis, negative_diagnosis)\n",
        "    print(f'T-Test for {col}: t-statistic = {t_stat}, p-value = {p_val}')"
      ],
      "metadata": {
        "id": "74NXsneDMgSX"
      },
      "execution_count": null,
      "outputs": []
    },
    {
      "cell_type": "code",
      "source": [
        "# ANOVA for numerical features grouped by categorical features\n",
        "\n",
        "from scipy.stats import f_oneway\n",
        "\n",
        "for col in numerical_columns:\n",
        "\n",
        "    for cat_col in categorical_columns:\n",
        "        unique_groups = df[cat_col].unique()\n",
        "\n",
        "        if len(unique_groups) > 1:\n",
        "            groups = [df[df[cat_col] == group][col] for group in unique_groups]\n",
        "            f_stat, p_val = f_oneway(*groups)\n",
        "            print(f'ANOVA for {col} grouped by {cat_col}: F-statistic = {f_stat}, p-value = {p_val}')"
      ],
      "metadata": {
        "id": "JYrzmwqEN3S4"
      },
      "execution_count": null,
      "outputs": []
    },
    {
      "cell_type": "markdown",
      "source": [
        "# Machine Learning"
      ],
      "metadata": {
        "id": "MhDL52jIPpKg"
      }
    },
    {
      "cell_type": "code",
      "source": [
        "X = df.drop('species', axis=1)\n",
        "y = df['species']"
      ],
      "metadata": {
        "id": "kxsYNa_jP0et"
      },
      "execution_count": null,
      "outputs": []
    },
    {
      "cell_type": "code",
      "source": [
        "X_train, X_test, y_train, y_test = train_test_split(X, y, test_size=0.2, random_state=42)"
      ],
      "metadata": {
        "id": "GuME9WSSP4fa"
      },
      "execution_count": null,
      "outputs": []
    },
    {
      "cell_type": "code",
      "source": [
        "# Apply Machine Learning Models\n",
        "models = {\n",
        "    'Logistic Regression': LogisticRegression(max_iter=50),\n",
        "    'Decision Tree': DecisionTreeClassifier(),\n",
        "    'Random Forest': RandomForestClassifier(),\n",
        "    'SVM': SVC(probability=True),\n",
        "    'Gradient Boosting': GradientBoostingClassifier(),\n",
        "    'Neural Network': MLPClassifier(max_iter=50)\n",
        "}"
      ],
      "metadata": {
        "id": "JxO4NZD_P7WG"
      },
      "execution_count": null,
      "outputs": []
    },
    {
      "cell_type": "code",
      "source": [
        "results = []\n",
        "\n",
        "for model_name, model in models.items():\n",
        "    model.fit(X_train, y_train)\n",
        "    y_pred = model.predict(X_test)\n",
        "    y_proba = model.predict_proba(X_test)#[:, #0]\n",
        "\n",
        "    results.append({\n",
        "        'Model': model_name,\n",
        "        'Accuracy': accuracy_score(y_test, y_pred),\n",
        "\n",
        "        'Precision': precision_score(y_test, y_pred, average='weighted'),\n",
        "        'Recall': recall_score(y_test, y_pred, average='weighted'),\n",
        "        'F1 Score': f1_score(y_test, y_pred, average='weighted'),\n",
        "\n",
        "        'ROC-AUC': roc_auc_score(y_test, y_proba, multi_class='ovr', average='weighted' )\n",
        "    })\n",
        "\n",
        "results_df = pd.DataFrame(results)\n",
        "results_df.sort_values(by='ROC-AUC', ascending=False, inplace=True)\n",
        "\n",
        "results_df"
      ],
      "metadata": {
        "id": "Th9G5oIvP96F"
      },
      "execution_count": null,
      "outputs": []
    },
    {
      "cell_type": "code",
      "source": [
        "results = []\n",
        "\n",
        "for model_name, model in models.items():\n",
        "    model.fit(X_train, y_train)\n",
        "    y_pred = model.predict(X_test)\n",
        "    y_proba = model.predict_proba(X_test)#[:, #0]\n",
        "\n",
        "    results.append({\n",
        "        'Model': model_name,\n",
        "        'Accuracy': accuracy_score(y_test, y_pred),\n",
        "\n",
        "        'Precision': precision_score(y_test, y_pred,average='macro' ),\n",
        "        'Recall': recall_score(y_test, y_pred, average='macro'),\n",
        "        'F1 Score': f1_score(y_test, y_pred,average='macro'),\n",
        "\n",
        "        'ROC-AUC': roc_auc_score(y_test, y_proba, multi_class='ovr',average='macro')\n",
        "    })\n",
        "\n",
        "results_df = pd.DataFrame(results)\n",
        "results_df.sort_values(by='ROC-AUC', ascending=False, inplace=True)\n",
        "\n",
        "results_df"
      ],
      "metadata": {
        "id": "h9prXSzapbXy"
      },
      "execution_count": null,
      "outputs": []
    }
  ]
}