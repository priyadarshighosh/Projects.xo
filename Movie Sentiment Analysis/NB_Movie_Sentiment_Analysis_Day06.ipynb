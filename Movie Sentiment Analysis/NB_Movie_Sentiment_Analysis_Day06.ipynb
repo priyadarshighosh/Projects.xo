{
  "nbformat": 4,
  "nbformat_minor": 0,
  "metadata": {
    "colab": {
      "private_outputs": true,
      "provenance": [],
      "collapsed_sections": [
        "buV9E0bf-37g"
      ],
      "gpuType": "T4"
    },
    "kernelspec": {
      "name": "python3",
      "display_name": "Python 3"
    },
    "language_info": {
      "name": "python"
    },
    "accelerator": "GPU"
  },
  "cells": [
    {
      "cell_type": "markdown",
      "source": [
        "# Sentiment Analysis"
      ],
      "metadata": {
        "id": "buV9E0bf-37g"
      }
    },
    {
      "cell_type": "markdown",
      "source": [
        "IMPORTING THE DATA SCIENCE LIBRARIES"
      ],
      "metadata": {
        "id": "HNvHInaq_BMJ"
      }
    },
    {
      "cell_type": "code",
      "execution_count": null,
      "metadata": {
        "id": "eum2WGOnBeeL"
      },
      "outputs": [],
      "source": [
        "\n",
        "import numpy as np\n",
        "import pandas as pd\n",
        "import seaborn as sns\n",
        "import matplotlib.pyplot as plt\n",
        "\n",
        "import time"
      ]
    },
    {
      "cell_type": "markdown",
      "source": [
        "Importing the ML / Scikit learn EVERYTHING"
      ],
      "metadata": {
        "id": "egI1aKHM_G4g"
      }
    },
    {
      "cell_type": "code",
      "source": [
        "from sklearn.linear_model import LogisticRegression\n",
        "from sklearn.neighbors import KNeighborsClassifier\n",
        "from sklearn.linear_model import RidgeClassifier\n",
        "from sklearn.tree import DecisionTreeClassifier\n",
        "from sklearn.ensemble import RandomForestClassifier, GradientBoostingClassifier\n",
        "from sklearn.svm import SVC\n",
        "from sklearn.neural_network import MLPClassifier"
      ],
      "metadata": {
        "id": "rw9qEruauW9l"
      },
      "execution_count": null,
      "outputs": []
    },
    {
      "cell_type": "code",
      "source": [
        "from sklearn.model_selection import train_test_split               #for splitting the data into test and training data\n",
        "from sklearn.compose import ColumnTransformer                       #for transforming the columns\n",
        "from sklearn.impute import SimpleImputer                             #for imputing the missing values\n",
        "from sklearn.preprocessing import OneHotEncoder                      #one hot encoding\n",
        "from sklearn.preprocessing import MinMaxScaler                        #standard scaling\n",
        "\n",
        "from sklearn.datasets import load_diabetes\n",
        "\n",
        "from sklearn.datasets import make_regression\n",
        "\n",
        "from sklearn.linear_model import LinearRegression\n",
        "from sklearn.linear_model import Ridge\n",
        "from sklearn.linear_model import Lasso\n",
        "from sklearn.linear_model import ElasticNet\n",
        "from sklearn.neighbors import KNeighborsRegressor\n",
        "from sklearn.tree import DecisionTreeRegressor\n",
        "from sklearn.ensemble import RandomForestRegressor\n",
        "from sklearn.ensemble import GradientBoostingRegressor\n",
        "from sklearn.neural_network import MLPRegressor\n",
        "from sklearn.svm import SVR\n",
        "from sklearn.metrics import mean_squared_error, r2_score\n",
        "\n",
        "\n",
        "from sklearn.svm import SVR\n",
        "import plotly.express as px\n",
        "import plotly.graph_objects as go\n",
        "from sklearn.datasets import make_classification\n",
        "\n",
        "from sklearn.preprocessing import LabelEncoder\n",
        "from sklearn.model_selection import train_test_split\n",
        "from sklearn.metrics import accuracy_score                 # for accuracy score\n",
        "from sklearn.model_selection import cross_val_score        # for cross validation score\n",
        "\n",
        "from sklearn.linear_model import LinearRegression           # Import the LinearRegression class\n",
        "from sklearn.metrics import mean_squared_error, r2_score    # to find out the error functions\n",
        "from sklearn.preprocessing import PolynomialFeatures , StandardScaler   # for the polunomial features\n",
        "\n",
        "from sklearn.pipeline import Pipeline\n",
        "from sklearn.linear_model import Ridge   # ridge Regression\n",
        "from sklearn.linear_model import LogisticRegression\n",
        "\n",
        "\n",
        "from sklearn.tree import DecisionTreeClassifier                 #Decision tree\n",
        "from sklearn.ensemble import RandomForestClassifier, GradientBoostingClassifier   # bagging and Boosting\n",
        "from sklearn.svm import SVC\n",
        "from sklearn.neural_network import MLPClassifier\n",
        "from sklearn.metrics import accuracy_score, precision_score, recall_score, f1_score, roc_auc_score   # different metrices to check how our model performed"
      ],
      "metadata": {
        "id": "wRReSbVmlxcK"
      },
      "execution_count": null,
      "outputs": []
    },
    {
      "cell_type": "markdown",
      "source": [
        "Importing Deep learning Everything"
      ],
      "metadata": {
        "id": "7EOOII0y82hE"
      }
    },
    {
      "cell_type": "code",
      "source": [
        "import tensorflow as tf\n",
        "from tensorflow import keras\n",
        "from tensorflow.keras import Sequential\n",
        "from tensorflow.keras.layers import Dense\n",
        "\n",
        "from tensorflow.keras.layers import Dropout\n",
        "from tensorflow.keras.optimizers import Adam"
      ],
      "metadata": {
        "id": "O1qjFngb87Y8"
      },
      "execution_count": null,
      "outputs": []
    },
    {
      "cell_type": "markdown",
      "source": [
        "Importing mathematical models"
      ],
      "metadata": {
        "id": "5oPnYaeAM0_1"
      }
    },
    {
      "cell_type": "code",
      "source": [
        "# prompt: import the mathematical testing framewroks\n",
        "\n",
        "# Importing mathematical models\n",
        "import math\n",
        "\n",
        "from scipy import stats\n",
        "\n",
        "import scipy.stats as stats\n",
        "import statsmodels.api as sm"
      ],
      "metadata": {
        "id": "G_2PyN5pNV1q"
      },
      "execution_count": null,
      "outputs": []
    },
    {
      "cell_type": "markdown",
      "source": [
        "# Loading and Information about the Dataset"
      ],
      "metadata": {
        "id": "XTPRT3iy9EuI"
      }
    },
    {
      "cell_type": "code",
      "source": [
        "\n",
        "from google.colab import files    # we are importing the file from the device\n",
        "uploaded = files.upload()"
      ],
      "metadata": {
        "id": "GiKUuK2LUcY4"
      },
      "execution_count": null,
      "outputs": []
    },
    {
      "cell_type": "markdown",
      "source": [
        "Categorical encoding has already being performed"
      ],
      "metadata": {
        "id": "u9tMczjh9x1H"
      }
    },
    {
      "cell_type": "code",
      "source": [
        "df=pd.read_csv('IMDB Dataset.csv')   #fitting the data in the df dataframe\n",
        "df.head(5)\n",
        "\n"
      ],
      "metadata": {
        "id": "PAXRZRNaJVKO",
        "collapsed": true
      },
      "execution_count": null,
      "outputs": []
    },
    {
      "cell_type": "code",
      "source": [
        "df.shape\n"
      ],
      "metadata": {
        "id": "fkHEM3gG747n"
      },
      "execution_count": null,
      "outputs": []
    },
    {
      "cell_type": "code",
      "source": [
        "df.describe()"
      ],
      "metadata": {
        "id": "tI7KmcrM79Sh"
      },
      "execution_count": null,
      "outputs": []
    },
    {
      "cell_type": "code",
      "source": [
        "df.info()       # we are checking for the null values luckily we dont have any here"
      ],
      "metadata": {
        "id": "i0p4tkGa8LcT"
      },
      "execution_count": null,
      "outputs": []
    },
    {
      "cell_type": "markdown",
      "source": [
        " There is no null data present in our Dataset"
      ],
      "metadata": {
        "id": "wUxiZbKg8QuQ"
      }
    },
    {
      "cell_type": "code",
      "source": [
        "df['review'][0]"
      ],
      "metadata": {
        "id": "4Ry4LNPxHc0t"
      },
      "execution_count": null,
      "outputs": []
    },
    {
      "cell_type": "markdown",
      "source": [
        "# Text Cleaning"
      ],
      "metadata": {
        "id": "YP84BY9b8Zdz"
      }
    },
    {
      "cell_type": "markdown",
      "source": [
        "![Screenshot 2024-11-16 001208.png](data:image/png;base64,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)"
      ],
      "metadata": {
        "id": "nCrZW2LCQ5w5"
      }
    },
    {
      "cell_type": "code",
      "source": [
        "df = df.sample(30000)"
      ],
      "metadata": {
        "id": "PB4fMGkmJjH2"
      },
      "execution_count": null,
      "outputs": []
    },
    {
      "cell_type": "code",
      "source": [
        "df.shape"
      ],
      "metadata": {
        "id": "LZI1hCtkKAVs"
      },
      "execution_count": null,
      "outputs": []
    },
    {
      "cell_type": "markdown",
      "source": [
        "Replacing the positive Sentiment with 1 and negative sentiment with 0"
      ],
      "metadata": {
        "id": "OqPA6bKdKayQ"
      }
    },
    {
      "cell_type": "code",
      "source": [
        "df['sentiment'] = df['sentiment'].replace({'positive': 1, 'negative': 0})"
      ],
      "metadata": {
        "id": "uFFfIclcKSPa"
      },
      "execution_count": null,
      "outputs": []
    },
    {
      "cell_type": "markdown",
      "source": [
        "To remove the HTML Tags"
      ],
      "metadata": {
        "id": "_8YvVU7hKvYF"
      }
    },
    {
      "cell_type": "code",
      "source": [
        "import re\n",
        "clean = re.compile('<.*?>')\n",
        "re.sub(clean, '', df.iloc[2].review)"
      ],
      "metadata": {
        "id": "FK0YVi7fKSLs"
      },
      "execution_count": null,
      "outputs": []
    },
    {
      "cell_type": "code",
      "source": [
        "# Function to clean html tags\n",
        "\n",
        "def clean_html(text):\n",
        "    clean = re.compile('<.*?>')\n",
        "    return re.sub(clean, '', text)"
      ],
      "metadata": {
        "id": "SQ8hz6yXKSI6"
      },
      "execution_count": null,
      "outputs": []
    },
    {
      "cell_type": "code",
      "source": [
        "df['review'] = df['review'].apply(clean_html)"
      ],
      "metadata": {
        "id": "wc_zMd18KSGI"
      },
      "execution_count": null,
      "outputs": []
    },
    {
      "cell_type": "markdown",
      "source": [
        "Converting everything to Lower Case"
      ],
      "metadata": {
        "id": "WvPy9uY7LhUt"
      }
    },
    {
      "cell_type": "code",
      "source": [
        "# Function to Convert to lower Case\n",
        "\n",
        "def convert_lower(text):\n",
        "    return text.lower()\n",
        "\n",
        "df['review'] = df['review'].apply(convert_lower)"
      ],
      "metadata": {
        "id": "5mTuhT1DKSDY"
      },
      "execution_count": null,
      "outputs": []
    },
    {
      "cell_type": "markdown",
      "source": [
        "Function to remove special Characters"
      ],
      "metadata": {
        "id": "_wWWaPX1L6sY"
      }
    },
    {
      "cell_type": "code",
      "source": [
        "# Remove special Characters\n",
        "\n",
        "def remove_special(text):\n",
        "    x=''\n",
        "    for i in text:\n",
        "        if i.isalnum():\n",
        "            x=x+i\n",
        "        else:\n",
        "            x=x+' '\n",
        "    return x"
      ],
      "metadata": {
        "id": "QBhC1FJaKSBP"
      },
      "execution_count": null,
      "outputs": []
    },
    {
      "cell_type": "code",
      "source": [
        "df['review'] = df['review'].apply(remove_special)"
      ],
      "metadata": {
        "id": "FLkMmamOKR_E"
      },
      "execution_count": null,
      "outputs": []
    },
    {
      "cell_type": "markdown",
      "source": [
        "Functions to Remove Stop Words"
      ],
      "metadata": {
        "id": "nXy1aBK3OecO"
      }
    },
    {
      "cell_type": "code",
      "source": [
        "# Functions to Remove Stop Words\n",
        "\n",
        "import nltk\n",
        "nltk.download('stopwords')\n",
        "from nltk.corpus import stopwords\n",
        "\n"
      ],
      "metadata": {
        "id": "_hi9VAX8O8Fb"
      },
      "execution_count": null,
      "outputs": []
    },
    {
      "cell_type": "code",
      "source": [
        "stopwords.words('english')"
      ],
      "metadata": {
        "id": "StBB6ospPU2Y"
      },
      "execution_count": null,
      "outputs": []
    },
    {
      "cell_type": "code",
      "source": [
        "def remove_stopwords(text):\n",
        "    x = []\n",
        "    for i in text.split():\n",
        "\n",
        "        if i not in stopwords.words('english'):\n",
        "            x.append(i)\n",
        "\n",
        "    y = x[:]\n",
        "    x.clear()\n",
        "    return y"
      ],
      "metadata": {
        "id": "Kw4EQomCKR3s"
      },
      "execution_count": null,
      "outputs": []
    },
    {
      "cell_type": "code",
      "source": [
        "df['review'] = df['review'].apply(remove_stopwords)"
      ],
      "metadata": {
        "id": "MnPtQMQ0KR0x"
      },
      "execution_count": null,
      "outputs": []
    },
    {
      "cell_type": "markdown",
      "source": [
        "Performing Steming"
      ],
      "metadata": {
        "id": "N505MKJyRm6D"
      }
    },
    {
      "cell_type": "code",
      "source": [
        "# Performing Stemming\n",
        "\n",
        "from nltk.stem.porter import PorterStemmer\n",
        "ps = PorterStemmer()"
      ],
      "metadata": {
        "id": "4nifTyUFKRyH"
      },
      "execution_count": null,
      "outputs": []
    },
    {
      "cell_type": "code",
      "source": [
        "y = []\n",
        "def stem_words(text):\n",
        "    for i in text:\n",
        "        y.append(ps.stem(i))\n",
        "    z = y[:]\n",
        "    y.clear()\n",
        "    return z"
      ],
      "metadata": {
        "id": "WwexeQZ9KRnS"
      },
      "execution_count": null,
      "outputs": []
    },
    {
      "cell_type": "code",
      "source": [
        "stem_words(['loved', 'loving', 'love'])"
      ],
      "metadata": {
        "id": "wXI6yv-cS9Gk"
      },
      "execution_count": null,
      "outputs": []
    },
    {
      "cell_type": "code",
      "source": [
        "df['review'] = df['review'].apply(stem_words)"
      ],
      "metadata": {
        "id": "fhtopTpyTDuH"
      },
      "execution_count": null,
      "outputs": []
    },
    {
      "cell_type": "markdown",
      "source": [
        "# Applying the joining function"
      ],
      "metadata": {
        "id": "jychB-doTLHL"
      }
    },
    {
      "cell_type": "code",
      "source": [
        "def join_words(list_input):\n",
        "    return \" \".join(list_input)"
      ],
      "metadata": {
        "id": "_VZid0EtUUok"
      },
      "execution_count": null,
      "outputs": []
    },
    {
      "cell_type": "code",
      "source": [
        "df['review'] = df['review'].apply(join_words)"
      ],
      "metadata": {
        "id": "xKlf6gcbUcCY"
      },
      "execution_count": null,
      "outputs": []
    },
    {
      "cell_type": "code",
      "source": [
        "df['review']"
      ],
      "metadata": {
        "id": "QNpX4r45UfkD"
      },
      "execution_count": null,
      "outputs": []
    },
    {
      "cell_type": "code",
      "source": [
        "X = df.iloc[:,0:1].values"
      ],
      "metadata": {
        "id": "BCOrNxTFWO3Y"
      },
      "execution_count": null,
      "outputs": []
    },
    {
      "cell_type": "code",
      "source": [
        "X.shape"
      ],
      "metadata": {
        "id": "SXdOv0irWQlg"
      },
      "execution_count": null,
      "outputs": []
    },
    {
      "cell_type": "markdown",
      "source": [
        "# Vectorization ( BAG OF WORDS )"
      ],
      "metadata": {
        "id": "nkwcte1sVktE"
      }
    },
    {
      "cell_type": "code",
      "source": [
        "from sklearn.feature_extraction.text import CountVectorizer\n",
        "# Use CountVectorizer instead of CountVector\n",
        "cv = CountVectorizer(max_features=10000)"
      ],
      "metadata": {
        "id": "rfCgkaVLWnyi"
      },
      "execution_count": null,
      "outputs": []
    },
    {
      "cell_type": "code",
      "source": [
        "X=cv.fit_transform(df['review']).toarray()"
      ],
      "metadata": {
        "id": "56mvt5glV7VZ"
      },
      "execution_count": null,
      "outputs": []
    },
    {
      "cell_type": "code",
      "source": [
        "X.shape"
      ],
      "metadata": {
        "id": "0dPKdzV5VxtD"
      },
      "execution_count": null,
      "outputs": []
    },
    {
      "cell_type": "markdown",
      "source": [
        "# Target Column"
      ],
      "metadata": {
        "id": "Dv5Q7VOjXfXb"
      }
    },
    {
      "cell_type": "code",
      "source": [
        "y = df.iloc[:, -1].values"
      ],
      "metadata": {
        "id": "6TfTMHKSV926"
      },
      "execution_count": null,
      "outputs": []
    },
    {
      "cell_type": "code",
      "source": [
        "y"
      ],
      "metadata": {
        "id": "VEZBD7dfXYHD"
      },
      "execution_count": null,
      "outputs": []
    },
    {
      "cell_type": "code",
      "source": [
        "y.shape"
      ],
      "metadata": {
        "id": "ay3P3y8UXZbY"
      },
      "execution_count": null,
      "outputs": []
    },
    {
      "cell_type": "markdown",
      "source": [
        "# Train Test Split"
      ],
      "metadata": {
        "id": "uqBFGR_kYK3H"
      }
    },
    {
      "cell_type": "code",
      "source": [
        "from sklearn.model_selection import train_test_split\n",
        "X_train, X_test, y_train, y_test = train_test_split(X, y, test_size = 0.20, random_state = 0)"
      ],
      "metadata": {
        "id": "PTAVsOnrYSaF"
      },
      "execution_count": null,
      "outputs": []
    },
    {
      "cell_type": "code",
      "source": [
        "X_train.shape"
      ],
      "metadata": {
        "id": "g7-X86YlYcmt"
      },
      "execution_count": null,
      "outputs": []
    },
    {
      "cell_type": "code",
      "source": [
        "X_test.shape"
      ],
      "metadata": {
        "id": "JRsBO1ItYfBd"
      },
      "execution_count": null,
      "outputs": []
    },
    {
      "cell_type": "code",
      "source": [
        "y_train.shape"
      ],
      "metadata": {
        "id": "CPgK67MoYpyg"
      },
      "execution_count": null,
      "outputs": []
    },
    {
      "cell_type": "code",
      "source": [
        "y_test.shape"
      ],
      "metadata": {
        "id": "QAyEo1UBYu6v"
      },
      "execution_count": null,
      "outputs": []
    },
    {
      "cell_type": "markdown",
      "source": [
        "# Applying the Naive Bayes Algorithm"
      ],
      "metadata": {
        "id": "eDfGodTeX2bQ"
      }
    },
    {
      "cell_type": "code",
      "source": [
        "from sklearn.naive_bayes import GaussianNB , MultinomialNB , BernoulliNB\n",
        "\n",
        "from sklearn.metrics import accuracy_score, confusion_matrix, precision_score\n",
        "\n",
        "\n",
        "clf1 = GaussianNB()          # Applying 3 Naive Bayes\n",
        "clf2 = MultinomialNB()\n",
        "clf3 = BernoulliNB()\n",
        "\n",
        "\n",
        "print (clf1.fit(X_train, y_train))       # fitting the data into the 3 Naive bayes\n",
        "print (clf2.fit(X_train, y_train))\n",
        "print (clf3.fit(X_train, y_train))"
      ],
      "metadata": {
        "id": "EISqO-A9Y3Hx"
      },
      "execution_count": null,
      "outputs": []
    },
    {
      "cell_type": "code",
      "source": [
        "y_pred1 = clf1.predict(X_test)     # Getting the predictions for all the 3 Classifications\n",
        "y_pred2 = clf2.predict(X_test)\n",
        "y_pred3 = clf3.predict(X_test)      # Everyone has the Same shape  (2000,)"
      ],
      "metadata": {
        "id": "BlP2pSglaEdr"
      },
      "execution_count": null,
      "outputs": []
    },
    {
      "cell_type": "code",
      "source": [
        "y_pred1.shape"
      ],
      "metadata": {
        "id": "qgtguQNVaV52"
      },
      "execution_count": null,
      "outputs": []
    },
    {
      "cell_type": "markdown",
      "source": [
        "# Accuracy Score"
      ],
      "metadata": {
        "id": "KDzSA9MyaukK"
      }
    },
    {
      "cell_type": "code",
      "source": [
        "accuracy_score(y_test, y_pred1)"
      ],
      "metadata": {
        "id": "HGNakBi2a6e5"
      },
      "execution_count": null,
      "outputs": []
    },
    {
      "cell_type": "code",
      "source": [
        "accuracy_score(y_test, y_pred2)"
      ],
      "metadata": {
        "id": "kRqoXuhNa9qQ"
      },
      "execution_count": null,
      "outputs": []
    },
    {
      "cell_type": "code",
      "source": [
        "accuracy_score(y_test, y_pred3)"
      ],
      "metadata": {
        "id": "xPFDOkQibCLJ"
      },
      "execution_count": null,
      "outputs": []
    }
  ]
}